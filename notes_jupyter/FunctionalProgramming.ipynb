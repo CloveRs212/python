{
 "cells": [
  {
   "cell_type": "markdown",
   "id": "b1312a10",
   "metadata": {},
   "source": [
    "# Functional Programming"
   ]
  },
  {
   "cell_type": "markdown",
   "id": "d3a30bd0",
   "metadata": {},
   "source": [
    "Is all about seperation of concerns, packing code into seperate chunks. Each part concerns only on itself without worrying about the whole. Functional programming seperates the data and functions from each other. They have an emphisis on clean and functional code inside databases. "
   ]
  },
  {
   "cell_type": "markdown",
   "id": "ecc6616c",
   "metadata": {},
   "source": [
    "Pure Functions - looks like [1,2,3] inside a box that can be changed and returns the same output You idealy want to contain your code inside the function so the outside is not linked into it, For example if you have some of it outside the function then some developer or code can change part of the function into something it is not suppose to be. Though it is imposible to fully do this all the time, however always try to use them if you can."
   ]
  },
  {
   "cell_type": "markdown",
   "id": "766017d1",
   "metadata": {},
   "source": [
    "map() is very useful with helping create pure functions with helping to iterate items and do tasks. It is a common used code function as it has many use cases."
   ]
  },
  {
   "cell_type": "markdown",
   "id": "61b482bd",
   "metadata": {},
   "source": [
    "lambda is used just like a normal function but is used only one time and is a nameless function. very useful in tasks that do not need a function to be called many times. Allowing it to be quickly coded in with no issues."
   ]
  }
 ],
 "metadata": {
  "kernelspec": {
   "display_name": "Python 3 (ipykernel)",
   "language": "python",
   "name": "python3"
  },
  "language_info": {
   "codemirror_mode": {
    "name": "ipython",
    "version": 3
   },
   "file_extension": ".py",
   "mimetype": "text/x-python",
   "name": "python",
   "nbconvert_exporter": "python",
   "pygments_lexer": "ipython3",
   "version": "3.11.5"
  }
 },
 "nbformat": 4,
 "nbformat_minor": 5
}

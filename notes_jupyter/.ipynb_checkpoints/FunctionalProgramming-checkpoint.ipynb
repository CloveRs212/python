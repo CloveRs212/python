{
 "cells": [
  {
   "cell_type": "markdown",
   "id": "b1312a10",
   "metadata": {},
   "source": [
    "# Functional Programming"
   ]
  },
  {
   "cell_type": "markdown",
   "id": "d3a30bd0",
   "metadata": {},
   "source": [
    "Is all about seperation of concerns, packing code into seperate chunks. Each part concerns only on itself without worrying about the whole. Functional programming seperates the data and functions from each other. They have an emphisis on clean and functional code inside databases. "
   ]
  },
  {
   "cell_type": "markdown",
   "id": "ecc6616c",
   "metadata": {},
   "source": [
    "Pure Functions - "
   ]
  }
 ],
 "metadata": {
  "kernelspec": {
   "display_name": "Python 3 (ipykernel)",
   "language": "python",
   "name": "python3"
  },
  "language_info": {
   "codemirror_mode": {
    "name": "ipython",
    "version": 3
   },
   "file_extension": ".py",
   "mimetype": "text/x-python",
   "name": "python",
   "nbconvert_exporter": "python",
   "pygments_lexer": "ipython3",
   "version": "3.11.5"
  }
 },
 "nbformat": 4,
 "nbformat_minor": 5
}

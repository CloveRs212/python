{
 "cells": [
  {
   "cell_type": "markdown",
   "id": "3f521845",
   "metadata": {},
   "source": [
    "# What is OOP?"
   ]
  },
  {
   "cell_type": "markdown",
   "id": "a8de4741",
   "metadata": {},
   "source": [
    "Object oriented Programming 'OOP' is a default idea. Allows us to go beyound just the given objects in the base python language. You are able to create your own data types that are fully custom. "
   ]
  },
  {
   "cell_type": "markdown",
   "id": "a5e4387d",
   "metadata": {},
   "source": [
    "As code get bigger from it slowly upgrading and adding more features and lines of code. While with the OOP concept we are able to package things into smaller chuncks,you are able to break things down futher and more easy to maintain. Giving the ability to have people focus on certain sections."
   ]
  },
  {
   "cell_type": "markdown",
   "id": "06b70cf1",
   "metadata": {},
   "source": [
    "Gives us a structure and clean code methods that we follow so everything is understandable. It is important because there are projects and companies with thousands of Developers working on it at once. So if it is not organized it will just be one big mess of code. Not being able to tell what breaks right away."
   ]
  },
  {
   "cell_type": "markdown",
   "id": "2a5a63b7",
   "metadata": {},
   "source": [
    "https://en.wikipedia.org/wiki/History_of_programming_languages - \n",
    "History of Programming Languages"
   ]
  },
  {
   "cell_type": "markdown",
   "id": "aa4c00e3",
   "metadata": {},
   "source": [
    "Class instantiate instances that are all objects. "
   ]
  },
  {
   "cell_type": "markdown",
   "id": "0a9137a0",
   "metadata": {},
   "source": [
    "# PILLARS OF OOP"
   ]
  },
  {
   "cell_type": "markdown",
   "id": "803294f1",
   "metadata": {},
   "source": [
    "1. Encapsulation\n",
    "2. Abstraction\n",
    "3. Inheritance"
   ]
  },
  {
   "cell_type": "markdown",
   "id": "ddd4264c",
   "metadata": {},
   "source": []
  }
 ],
 "metadata": {
  "kernelspec": {
   "display_name": "Python 3 (ipykernel)",
   "language": "python",
   "name": "python3"
  },
  "language_info": {
   "codemirror_mode": {
    "name": "ipython",
    "version": 3
   },
   "file_extension": ".py",
   "mimetype": "text/x-python",
   "name": "python",
   "nbconvert_exporter": "python",
   "pygments_lexer": "ipython3",
   "version": "3.11.5"
  }
 },
 "nbformat": 4,
 "nbformat_minor": 5
}

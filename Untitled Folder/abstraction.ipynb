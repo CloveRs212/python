{
 "cells": [
  {
   "cell_type": "markdown",
   "id": "a7eec80a",
   "metadata": {},
   "source": [
    "# Abstraction"
   ]
  },
  {
   "cell_type": "markdown",
   "id": "4fa11fcc",
   "metadata": {},
   "source": [
    "Is the process of taking away the need of something. For example with python when we use built in functions when we call them, we are using already made code. We do not need to know how it works in order to use it, making it easier for someone to re-use code that will work for them without having to know how to exactly do that function."
   ]
  },
  {
   "cell_type": "markdown",
   "id": "0040c9d7",
   "metadata": {},
   "source": [
    "# Private"
   ]
  },
  {
   "cell_type": "markdown",
   "id": "53855e8f",
   "metadata": {},
   "source": [
    "There is no true private code in python. Although if you ever want to keep an attribute private you can put a _ at the start of it. Though it wont prevent someone from changing it, they will see that you should not modify this."
   ]
  },
  {
   "cell_type": "markdown",
   "id": "60cd66af",
   "metadata": {},
   "source": []
  }
 ],
 "metadata": {
  "kernelspec": {
   "display_name": "Python 3 (ipykernel)",
   "language": "python",
   "name": "python3"
  },
  "language_info": {
   "codemirror_mode": {
    "name": "ipython",
    "version": 3
   },
   "file_extension": ".py",
   "mimetype": "text/x-python",
   "name": "python",
   "nbconvert_exporter": "python",
   "pygments_lexer": "ipython3",
   "version": "3.11.5"
  }
 },
 "nbformat": 4,
 "nbformat_minor": 5
}
